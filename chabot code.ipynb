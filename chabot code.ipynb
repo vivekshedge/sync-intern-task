{
 "cells": [
  {
   "cell_type": "markdown",
   "id": "ef684616",
   "metadata": {},
   "source": [
    "# sync interns\n"
   ]
  },
  {
   "cell_type": "markdown",
   "id": "49bf6fa6",
   "metadata": {},
   "source": [
    "**task-1 create chatbot**"
   ]
  },
  {
   "cell_type": "markdown",
   "id": "400bc5a4",
   "metadata": {},
   "source": [
    "**vivek popat shedge**"
   ]
  },
  {
   "cell_type": "code",
   "execution_count": null,
   "id": "a8763aeb",
   "metadata": {},
   "outputs": [],
   "source": [
    "import numpy as np\n",
    "import nltk\n",
    "import string\n",
    "import random\n"
   ]
  },
  {
   "cell_type": "code",
   "execution_count": 8,
   "id": "27487f3d",
   "metadata": {},
   "outputs": [],
   "source": [
    "import pandas as pd\n",
    "import nltk\n",
    "from nltk.corpus import stopwords\n",
    "import re\n",
    "import os\n",
    "import codecs\n",
    "from sklearn import feature_extraction\n",
    "from nltk.stem.snowball import SnowballStemmer\n",
    "from sklearn.feature_extraction.text import TfidfVectorizer"
   ]
  },
  {
   "cell_type": "code",
   "execution_count": 9,
   "id": "caaf827b",
   "metadata": {},
   "outputs": [
    {
     "name": "stderr",
     "output_type": "stream",
     "text": [
      "[nltk_data] Downloading package punkt to C:\\Users\\MSI\n",
      "[nltk_data]     USER\\AppData\\Roaming\\nltk_data...\n",
      "[nltk_data]   Package punkt is already up-to-date!\n",
      "[nltk_data] Downloading package wordnet to C:\\Users\\MSI\n",
      "[nltk_data]     USER\\AppData\\Roaming\\nltk_data...\n",
      "[nltk_data]   Package wordnet is already up-to-date!\n"
     ]
    }
   ],
   "source": [
    "f=open('chatbot.txt','r',errors='ignore')\n",
    "raw_doc=f.read()\n",
    "raw_doc=raw_doc.lower()\n",
    "nltk.download('punkt')\n",
    "nltk.download('wordnet')\n",
    "sent_tokens=nltk.sent_tokenize(raw_doc)\n",
    "word_tokens=nltk.word_tokenize(raw_doc)\n"
   ]
  },
  {
   "cell_type": "code",
   "execution_count": 10,
   "id": "152c51e4",
   "metadata": {},
   "outputs": [
    {
     "data": {
      "text/plain": [
       "['hello\\n hi.', \"what's up\\n nothing.\"]"
      ]
     },
     "execution_count": 10,
     "metadata": {},
     "output_type": "execute_result"
    }
   ],
   "source": [
    "sent_tokens[:2]"
   ]
  },
  {
   "cell_type": "code",
   "execution_count": 11,
   "id": "adb40f00",
   "metadata": {},
   "outputs": [
    {
     "data": {
      "text/plain": [
       "['hello', 'hi']"
      ]
     },
     "execution_count": 11,
     "metadata": {},
     "output_type": "execute_result"
    }
   ],
   "source": [
    "word_tokens[:2]"
   ]
  },
  {
   "cell_type": "code",
   "execution_count": 12,
   "id": "9e7282dc",
   "metadata": {},
   "outputs": [],
   "source": [
    "lemmer= nltk.stem.WordNetLemmatizer()\n",
    "def LemTokens(tokens):\n",
    "    return[lemmer.lemmatize(token) for token in tokens]\n",
    "remove_punct_dict=dict((ord(punct),None)for punct in string.punctuation)\n",
    "def LemNormalize(text):\n",
    "    return  LemTokens(nltk.word_tokenize(text.lower().translate(remove_punct_dict)))"
   ]
  },
  {
   "cell_type": "code",
   "execution_count": 13,
   "id": "4258b82a",
   "metadata": {},
   "outputs": [],
   "source": [
    "GREET_INPUTS=[\"Hello\",\"What's up\",\"How are you\"]\n",
    "GREET_RESPONSES=[\"hi\",\"No thing\",\"i am good\"]"
   ]
  },
  {
   "cell_type": "code",
   "execution_count": 25,
   "id": "836e151e",
   "metadata": {},
   "outputs": [],
   "source": [
    "def greet(sentence):\n",
    "    for word in sentence.split():\n",
    "        if word.lower() in GREET_INPUTS:\n",
    "            return (GREET_RESPONSES)"
   ]
  },
  {
   "cell_type": "code",
   "execution_count": 26,
   "id": "d568a598",
   "metadata": {},
   "outputs": [],
   "source": [
    "from sklearn.feature_extraction.text import TfidfVectorizer\n",
    "from sklearn.metrics.pairwise import cosine_similarity\n",
    "def response(user_response):\n",
    "    robo1_response=''\n",
    "    TfidVec=TfidfVectorizer(tokenizer=LemNormalize, stop_words='english')\n",
    "    tfidf= TfidVec.fit_transform(sent_tokens)\n",
    "    vals=cosine_similarity(tfidf[-1],tfidf)\n",
    "    idx=vals.argsort()[0][-2]\n",
    "    flat=vals.flatten()\n",
    "    flat.sort()\n",
    "    req_tfidf=flat[-2]\n",
    "    if(req_tfidf==0):\n",
    "        robo1_response=robo1_response+\"I am sorry I don't understand you\"\n",
    "        return robo1_response\n",
    "    else:\n",
    "        robo1_response=robo1_response+sent_tokens[idx]\n",
    "        return robo1_response"
   ]
  },
  {
   "cell_type": "code",
   "execution_count": null,
   "id": "9e2cc0da",
   "metadata": {},
   "outputs": [
    {
     "name": "stdout",
     "output_type": "stream",
     "text": [
      "BOT:my name is chatbot.\n",
      "\n",
      "BOT:"
     ]
    },
    {
     "name": "stderr",
     "output_type": "stream",
     "text": [
      "C:\\Users\\MSI USER\\anaconda3\\lib\\site-packages\\sklearn\\feature_extraction\\text.py:396: UserWarning: Your stop_words may be inconsistent with your preprocessing. Tokenizing the stop words generated tokens ['ha', 'le', 'u', 'wa'] not in stop_words.\n",
      "  warnings.warn(\n"
     ]
    },
    {
     "name": "stdout",
     "output_type": "stream",
     "text": [
      "I am sorry I don't understand you\n",
      "Hello\n",
      "BOT:hello\n",
      "What's up\n",
      "BOT:what's up\n",
      " nothing.\n",
      "How are you\n",
      "BOT:I am sorry I don't understand you\n",
      "How are you\n",
      "BOT:I am sorry I don't understand you\n"
     ]
    }
   ],
   "source": [
    "flag=True\n",
    "print(\"BOT:my name is chatbot.\")\n",
    "while (flag==True):\n",
    "    user_response= input()\n",
    "    user_response=user_response.lower()\n",
    "    if(user_response!='bye'):\n",
    "        if(user_response=='thanks'):\n",
    "            flag=False\n",
    "            print(\"BOT:you are welcome..\")\n",
    "        else:\n",
    "            if(greet(user_response)!=None):\n",
    "                    print(\"BOT:\"+greet(user_response))\n",
    "            else:\n",
    "                        sent_tokens.append(user_response)\n",
    "                        word_tokens=word_tokens+nltk.word_tokenize(user_response)\n",
    "                        final_words=list(set(word_tokens))\n",
    "                        print(\"BOT:\",end=\"\")\n",
    "                        print(response(user_response))\n",
    "                        sent_tokens.remove(user_response)"
   ]
  },
  {
   "cell_type": "code",
   "execution_count": null,
   "id": "e11cd044",
   "metadata": {},
   "outputs": [],
   "source": []
  },
  {
   "cell_type": "code",
   "execution_count": null,
   "id": "fea4d145",
   "metadata": {},
   "outputs": [],
   "source": []
  }
 ],
 "metadata": {
  "kernelspec": {
   "display_name": "Python 3 (ipykernel)",
   "language": "python",
   "name": "python3"
  },
  "language_info": {
   "codemirror_mode": {
    "name": "ipython",
    "version": 3
   },
   "file_extension": ".py",
   "mimetype": "text/x-python",
   "name": "python",
   "nbconvert_exporter": "python",
   "pygments_lexer": "ipython3",
   "version": "3.9.13"
  }
 },
 "nbformat": 4,
 "nbformat_minor": 5
}
